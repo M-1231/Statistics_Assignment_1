{
 "cells": [
  {
   "cell_type": "code",
   "execution_count": null,
   "id": "e29674e9-9215-4a80-93ba-527b25cb91e2",
   "metadata": {},
   "outputs": [],
   "source": [
    "\n",
    "\"\"\" Q.1 \n",
    "Statistics refers to a field of study and a set of methodologies that involve collecting, organizing, analyzing, interpreting, and presenting data. \n",
    "It encompasses a range of techniques used to understand and make sense of data in order to draw meaningful conclusions, make informed decisions, and gain insights into various phenomena.\n",
    "Statistics is widely used in diverse fields such as economics, social sciences, natural sciences, business, medicine, and more. It helps researchers, analysts, and decision-makers to make informed choices, uncover trends, validate hypotheses, and understand the underlying patterns within data."
   ]
  },
  {
   "cell_type": "code",
   "execution_count": null,
   "id": "2a358cd9-8c4d-4b83-9309-a1aa56b36e89",
   "metadata": {},
   "outputs": [],
   "source": [
    "\"\"\" Q.2\n",
    "Statistics can be broadly categorized into two main types:\n",
    "Descriptive statistics and Inferential statistics.\n",
    "\n",
    "Descriptive Statistics\n",
    "Descriptive statistics involve methods for summarizing and presenting data in a clear and understandable manner. They help provide insights into the main features of a dataset without making broader inferences.\n",
    "For example : To find the average height of the students of a class, we use descriptive statistics.\n",
    "\n",
    "Inferential Statistics:\n",
    "Inferential statistics involve using data from a sample to make inferences or predictions about a larger population. These methods help us draw conclusions beyond the immediate data at hand.\n",
    "For example: To find the average height of people of India, we use inferential statistics."
   ]
  },
  {
   "cell_type": "code",
   "execution_count": null,
   "id": "c79caff7-c741-492b-b378-1232a7e5df15",
   "metadata": {},
   "outputs": [],
   "source": [
    "\"\"\" Q.3\n",
    "There are two types of data:\n",
    "1.Qualitative data \n",
    "2.Quantitaive data \n",
    "\n",
    "Both of the data differ from each other as:\n",
    "1.In Quantitative data, data is depicted in numerical terms while in Qualitative data, data is not depicted in numerical terms.  \n",
    "2.In Quantitative data,Can be shown in numbers and variables like ratio, percentage, and more while the Qualitative data could be about the behavioral attributes of a person, or thing. \n",
    "3.Example of Quantitative data is 12,1:4,100% while example of Qualitative data is color(red,blue),gender,rating."
   ]
  },
  {
   "cell_type": "code",
   "execution_count": null,
   "id": "eb0aceb5-4648-4664-8411-400360070f7f",
   "metadata": {},
   "outputs": [],
   "source": [
    "\"\"\"Q.4\n",
    "(i)   Qualitative data\n",
    "(ii)  Qualitative data\n",
    "(iii) Quantitative data\n",
    "(iv)  Quantitative data \n",
    "  "
   ]
  },
  {
   "cell_type": "code",
   "execution_count": null,
   "id": "41e31ef0-59f9-43af-b81f-f018772187b6",
   "metadata": {},
   "outputs": [],
   "source": [
    "\"\"\" Q.5\n",
    "Levels of measurement, also called scales of measurement, tells how precisely variables are recorded. In scientific research, a variable is anything that can take on different values across your data set. \n",
    "Level of measurement can be classified into several types based on their characteristics and properties. The main types are:\n",
    "\n",
    "Nominal Scale Data:\n",
    "Nominal data are categories or labels that have no inherent order or numeric value. They represent distinct groups or classes.\n",
    "Examples: Gender (male, female), Eye color (blue, brown, green), Types of fruits (apple, banana, orange).\n",
    "\n",
    "Ordinal Scale Data:\n",
    "Ordinal data represent categories with a meaningful order or ranking, but the differences between the categories are not necessarily equal or quantifiable.\n",
    "Examples: Education levels (high school, bachelor's, master's), Customer satisfaction ratings (low, medium, high).\n",
    "\n",
    "Interval Scale Data:\n",
    "Interval data have a meaningful order, and the differences between values are consistent and measurable. However, there is no true zero point, and ratios are not meaningful.\n",
    "Examples: Temperature in Celsius or Fahrenheit (the difference between 10°C and 20°C is the same as between 20°C and 30°C, but a temperature of 0°C does not mean \"no temperature\").\n",
    "\n",
    "Ratio  Data:\n",
    "Ratio data have all the properties of interval data, plus a true zero point that indicates the absence of the quantity being measured. Ratios between values are meaningful.\n",
    "Examples: Height, weight, income, age (a person with an age of 0 years is truly non-existent in terms of age)"
   ]
  },
  {
   "cell_type": "code",
   "execution_count": null,
   "id": "0a983d50-0762-4b53-9b82-22bcd43d14ba",
   "metadata": {},
   "outputs": [],
   "source": [
    "\"\"\"Q.6 \n",
    "It is important to understand the level of measurement because it determines the types of statistical analyses and operations that can be appropriately applied to the data. \n",
    "For example: 1.Temperature changes are interval data. We can calculate the mean temperature change and the standard deviation to measure the average change and its variability. However, we can't claim that a change of 20°C is twice as significant as a change of 10°C because there's no true zero point.\n",
    "             2.User satisfaction is an ordinal data we can rank the product based on user satisfaction, but we can't say that a product with a rating of 4 is twice as effective as one with a rating of 2.So,treating satisfaction ratings as interval data and trying to calculate a \"mean satisfaction\" would not be appropriate, as the differences between ratings are not necessarily uniform.\n",
    "             Hence with these two examples we can conclude that understanding the level of measurement is important in analysing data."
   ]
  },
  {
   "cell_type": "code",
   "execution_count": null,
   "id": "e487954c-9354-4bb0-b15c-8b0a99475853",
   "metadata": {},
   "outputs": [],
   "source": [
    "\"\"\"Q.7 \n",
    "Nominal Data:\n",
    "1.Nominal data is a type of data that consists of categories or names that cannot be ordered or ranked. Nominal data is often used to categorize observations into groups, and the groups are not comparable. \n",
    "In other words, nominal data has no inherent order or ranking. Examples of nominal data include gender,race,blood type.\n",
    "2.Nominal data can be represented using frequency tables and bar charts, which display the number or proportion of observations in each category.\n",
    "\n",
    "Ordinal Data:\n",
    "1.Ordinal data is a type of data that consists of categories that can be ordered or ranked. However, the distance between categories is not necessarily equal. \n",
    "Ordinal data is often used to measure subjective attributes or opinions, where there is a natural order to the responses. Examples of ordinal data include education level,job position,ratings.\n",
    "2.Ordinal data can be represented using frequency tables, bar charts, or line charts. These displays show the order or ranking of the categories, but they do not imply that the distances between categories are equal."
   ]
  },
  {
   "cell_type": "code",
   "execution_count": null,
   "id": "5af9e167-c4e3-4bb7-b633-2849a61c164a",
   "metadata": {},
   "outputs": [],
   "source": [
    "\"\"\"Q.8\n",
    "A Boxplot is used to display data in terms of range.\n",
    "A box plot provides a visual summary of the distribution of a dataset, including measures like the minimum, maximum, quartiles, and potential outliers. It's particularly useful for showing the spread and central tendency of data points."
   ]
  },
  {
   "cell_type": "code",
   "execution_count": null,
   "id": "99327b2e-d0cf-462a-8d33-710dc4a4e1e2",
   "metadata": {},
   "outputs": [],
   "source": [
    "\"\"\"Q.9\n",
    "Descriptive Statistics\n",
    "1.It gives information about raw data which describes the data in some manner.\n",
    "2.It helps in organizing, analyzing, and to present data in a meaningful manner.\n",
    "3.It is used to describe a situation.\n",
    "4.It explains already known data and is limited to a sample or population having a small size.\n",
    "5.It can be achieved with the help of charts, graphs, tables, etc.\n",
    "\n",
    "Inferential Statistics\n",
    "1.It makes inferences about the population using data drawn from the population.\n",
    "2.It allows us to compare data, and make hypotheses and predictions.\n",
    "3.It is used to explain the chance of occurrence of an event.\n",
    "4.It attempts to reach the conclusion about the population.\n",
    "5.It can be achieved by probability."
   ]
  },
  {
   "cell_type": "code",
   "execution_count": null,
   "id": "3772bc02-0643-441c-b122-aecd73236ad1",
   "metadata": {},
   "outputs": [],
   "source": [
    "\"\"\"Q.10\n",
    "Measures of central tendency and variability are essential statistical tools for summarizing and understanding datasets. They provide insights into the center and spread of data. Here are some common measures of central tendency and variability along with their explanations:\n",
    "Measures of Central Tendency:\n",
    "1.Mean:\n",
    "The mean is the average value of a dataset. It's calculated by summing up all the values and dividing by the number of values.\n",
    "It's affected by outliers and is most useful when the data is relatively symmetric and not too skewed.\n",
    "2.Median:\n",
    "The median is the middle value in a dataset when the values are arranged in ascending or descending order. If there's an even number of values, the median is the average of the two middle values.\n",
    "It's less sensitive to outliers compared to the mean and is useful when the data is skewed or contains extreme values.\n",
    "3.Mode:\n",
    "The mode is the value that appears most frequently in a dataset.\n",
    "It's especially useful for categorical data and can help identify the most common value.\n",
    "\n",
    "Measures of Variability:\n",
    "1.Variance:\n",
    "Variance measures the average squared deviation of each data point from the mean.\n",
    "A high variance indicates a wide spread of data points, while a low variance indicates data points are close to the mean.\n",
    "2.Standard Deviation:\n",
    "The standard deviation is the square root of the variance. It represents the average distance of data points from the mean.\n",
    "It's commonly used as a measure of spread and gives a clearer sense of variability than the variance itself.\n"
   ]
  },
  {
   "cell_type": "code",
   "execution_count": 1,
   "id": "da603869-d5a3-4c0d-962f-9b937d04e3e7",
   "metadata": {
    "tags": []
   },
   "outputs": [],
   "source": [
    "import seaborn as sns\n",
    "import numpy as np"
   ]
  },
  {
   "cell_type": "code",
   "execution_count": 2,
   "id": "34ccb3fe-2084-4bf7-a566-fc55cddcfc64",
   "metadata": {
    "tags": []
   },
   "outputs": [
    {
     "data": {
      "text/html": [
       "<div>\n",
       "<style scoped>\n",
       "    .dataframe tbody tr th:only-of-type {\n",
       "        vertical-align: middle;\n",
       "    }\n",
       "\n",
       "    .dataframe tbody tr th {\n",
       "        vertical-align: top;\n",
       "    }\n",
       "\n",
       "    .dataframe thead th {\n",
       "        text-align: right;\n",
       "    }\n",
       "</style>\n",
       "<table border=\"1\" class=\"dataframe\">\n",
       "  <thead>\n",
       "    <tr style=\"text-align: right;\">\n",
       "      <th></th>\n",
       "      <th>total_bill</th>\n",
       "      <th>tip</th>\n",
       "      <th>sex</th>\n",
       "      <th>smoker</th>\n",
       "      <th>day</th>\n",
       "      <th>time</th>\n",
       "      <th>size</th>\n",
       "    </tr>\n",
       "  </thead>\n",
       "  <tbody>\n",
       "    <tr>\n",
       "      <th>0</th>\n",
       "      <td>16.99</td>\n",
       "      <td>1.01</td>\n",
       "      <td>Female</td>\n",
       "      <td>No</td>\n",
       "      <td>Sun</td>\n",
       "      <td>Dinner</td>\n",
       "      <td>2</td>\n",
       "    </tr>\n",
       "    <tr>\n",
       "      <th>1</th>\n",
       "      <td>10.34</td>\n",
       "      <td>1.66</td>\n",
       "      <td>Male</td>\n",
       "      <td>No</td>\n",
       "      <td>Sun</td>\n",
       "      <td>Dinner</td>\n",
       "      <td>3</td>\n",
       "    </tr>\n",
       "    <tr>\n",
       "      <th>2</th>\n",
       "      <td>21.01</td>\n",
       "      <td>3.50</td>\n",
       "      <td>Male</td>\n",
       "      <td>No</td>\n",
       "      <td>Sun</td>\n",
       "      <td>Dinner</td>\n",
       "      <td>3</td>\n",
       "    </tr>\n",
       "    <tr>\n",
       "      <th>3</th>\n",
       "      <td>23.68</td>\n",
       "      <td>3.31</td>\n",
       "      <td>Male</td>\n",
       "      <td>No</td>\n",
       "      <td>Sun</td>\n",
       "      <td>Dinner</td>\n",
       "      <td>2</td>\n",
       "    </tr>\n",
       "    <tr>\n",
       "      <th>4</th>\n",
       "      <td>24.59</td>\n",
       "      <td>3.61</td>\n",
       "      <td>Female</td>\n",
       "      <td>No</td>\n",
       "      <td>Sun</td>\n",
       "      <td>Dinner</td>\n",
       "      <td>4</td>\n",
       "    </tr>\n",
       "    <tr>\n",
       "      <th>...</th>\n",
       "      <td>...</td>\n",
       "      <td>...</td>\n",
       "      <td>...</td>\n",
       "      <td>...</td>\n",
       "      <td>...</td>\n",
       "      <td>...</td>\n",
       "      <td>...</td>\n",
       "    </tr>\n",
       "    <tr>\n",
       "      <th>239</th>\n",
       "      <td>29.03</td>\n",
       "      <td>5.92</td>\n",
       "      <td>Male</td>\n",
       "      <td>No</td>\n",
       "      <td>Sat</td>\n",
       "      <td>Dinner</td>\n",
       "      <td>3</td>\n",
       "    </tr>\n",
       "    <tr>\n",
       "      <th>240</th>\n",
       "      <td>27.18</td>\n",
       "      <td>2.00</td>\n",
       "      <td>Female</td>\n",
       "      <td>Yes</td>\n",
       "      <td>Sat</td>\n",
       "      <td>Dinner</td>\n",
       "      <td>2</td>\n",
       "    </tr>\n",
       "    <tr>\n",
       "      <th>241</th>\n",
       "      <td>22.67</td>\n",
       "      <td>2.00</td>\n",
       "      <td>Male</td>\n",
       "      <td>Yes</td>\n",
       "      <td>Sat</td>\n",
       "      <td>Dinner</td>\n",
       "      <td>2</td>\n",
       "    </tr>\n",
       "    <tr>\n",
       "      <th>242</th>\n",
       "      <td>17.82</td>\n",
       "      <td>1.75</td>\n",
       "      <td>Male</td>\n",
       "      <td>No</td>\n",
       "      <td>Sat</td>\n",
       "      <td>Dinner</td>\n",
       "      <td>2</td>\n",
       "    </tr>\n",
       "    <tr>\n",
       "      <th>243</th>\n",
       "      <td>18.78</td>\n",
       "      <td>3.00</td>\n",
       "      <td>Female</td>\n",
       "      <td>No</td>\n",
       "      <td>Thur</td>\n",
       "      <td>Dinner</td>\n",
       "      <td>2</td>\n",
       "    </tr>\n",
       "  </tbody>\n",
       "</table>\n",
       "<p>244 rows × 7 columns</p>\n",
       "</div>"
      ],
      "text/plain": [
       "     total_bill   tip     sex smoker   day    time  size\n",
       "0         16.99  1.01  Female     No   Sun  Dinner     2\n",
       "1         10.34  1.66    Male     No   Sun  Dinner     3\n",
       "2         21.01  3.50    Male     No   Sun  Dinner     3\n",
       "3         23.68  3.31    Male     No   Sun  Dinner     2\n",
       "4         24.59  3.61  Female     No   Sun  Dinner     4\n",
       "..          ...   ...     ...    ...   ...     ...   ...\n",
       "239       29.03  5.92    Male     No   Sat  Dinner     3\n",
       "240       27.18  2.00  Female    Yes   Sat  Dinner     2\n",
       "241       22.67  2.00    Male    Yes   Sat  Dinner     2\n",
       "242       17.82  1.75    Male     No   Sat  Dinner     2\n",
       "243       18.78  3.00  Female     No  Thur  Dinner     2\n",
       "\n",
       "[244 rows x 7 columns]"
      ]
     },
     "execution_count": 2,
     "metadata": {},
     "output_type": "execute_result"
    }
   ],
   "source": [
    "df=sns.load_dataset(\"tips\")\n",
    "df"
   ]
  },
  {
   "cell_type": "code",
   "execution_count": 3,
   "id": "0e813b31-5a91-43fe-8527-87f447e28926",
   "metadata": {
    "tags": []
   },
   "outputs": [
    {
     "name": "stderr",
     "output_type": "stream",
     "text": [
      "C:\\Users\\shukl\\AppData\\Local\\Temp\\ipykernel_8896\\3698961737.py:1: FutureWarning: The default value of numeric_only in DataFrame.mean is deprecated. In a future version, it will default to False. In addition, specifying 'numeric_only=None' is deprecated. Select only valid columns or specify the value of numeric_only to silence this warning.\n",
      "  df.mean()\n"
     ]
    },
    {
     "data": {
      "text/plain": [
       "total_bill    19.785943\n",
       "tip            2.998279\n",
       "size           2.569672\n",
       "dtype: float64"
      ]
     },
     "execution_count": 3,
     "metadata": {},
     "output_type": "execute_result"
    }
   ],
   "source": [
    "df.mean()"
   ]
  },
  {
   "cell_type": "code",
   "execution_count": 4,
   "id": "e92578d0-def7-4f61-9d4c-2db79d180be8",
   "metadata": {
    "tags": []
   },
   "outputs": [
    {
     "name": "stderr",
     "output_type": "stream",
     "text": [
      "C:\\Users\\shukl\\AppData\\Local\\Temp\\ipykernel_8896\\530051474.py:1: FutureWarning: The default value of numeric_only in DataFrame.median is deprecated. In a future version, it will default to False. In addition, specifying 'numeric_only=None' is deprecated. Select only valid columns or specify the value of numeric_only to silence this warning.\n",
      "  df.median()\n"
     ]
    },
    {
     "data": {
      "text/plain": [
       "total_bill    17.795\n",
       "tip            2.900\n",
       "size           2.000\n",
       "dtype: float64"
      ]
     },
     "execution_count": 4,
     "metadata": {},
     "output_type": "execute_result"
    }
   ],
   "source": [
    "df.median()"
   ]
  },
  {
   "cell_type": "code",
   "execution_count": 5,
   "id": "aef42982-a938-44fc-ac21-d3e3d7d80761",
   "metadata": {
    "tags": []
   },
   "outputs": [
    {
     "data": {
      "text/html": [
       "<div>\n",
       "<style scoped>\n",
       "    .dataframe tbody tr th:only-of-type {\n",
       "        vertical-align: middle;\n",
       "    }\n",
       "\n",
       "    .dataframe tbody tr th {\n",
       "        vertical-align: top;\n",
       "    }\n",
       "\n",
       "    .dataframe thead th {\n",
       "        text-align: right;\n",
       "    }\n",
       "</style>\n",
       "<table border=\"1\" class=\"dataframe\">\n",
       "  <thead>\n",
       "    <tr style=\"text-align: right;\">\n",
       "      <th></th>\n",
       "      <th>total_bill</th>\n",
       "      <th>tip</th>\n",
       "      <th>sex</th>\n",
       "      <th>smoker</th>\n",
       "      <th>day</th>\n",
       "      <th>time</th>\n",
       "      <th>size</th>\n",
       "    </tr>\n",
       "  </thead>\n",
       "  <tbody>\n",
       "    <tr>\n",
       "      <th>0</th>\n",
       "      <td>13.42</td>\n",
       "      <td>2.0</td>\n",
       "      <td>Male</td>\n",
       "      <td>No</td>\n",
       "      <td>Sat</td>\n",
       "      <td>Dinner</td>\n",
       "      <td>2</td>\n",
       "    </tr>\n",
       "  </tbody>\n",
       "</table>\n",
       "</div>"
      ],
      "text/plain": [
       "   total_bill  tip   sex smoker  day    time  size\n",
       "0       13.42  2.0  Male     No  Sat  Dinner     2"
      ]
     },
     "execution_count": 5,
     "metadata": {},
     "output_type": "execute_result"
    }
   ],
   "source": [
    "df.mode()"
   ]
  },
  {
   "cell_type": "code",
   "execution_count": 8,
   "id": "b286ab77-4ad7-4849-bcf7-0950d0bc9828",
   "metadata": {
    "tags": []
   },
   "outputs": [
    {
     "name": "stderr",
     "output_type": "stream",
     "text": [
      "C:\\Users\\shukl\\AppData\\Local\\Temp\\ipykernel_8896\\1568254755.py:1: FutureWarning: The default value of numeric_only in DataFrame.var is deprecated. In a future version, it will default to False. In addition, specifying 'numeric_only=None' is deprecated. Select only valid columns or specify the value of numeric_only to silence this warning.\n",
      "  df.var()\n"
     ]
    },
    {
     "data": {
      "text/plain": [
       "total_bill    79.252939\n",
       "tip            1.914455\n",
       "size           0.904591\n",
       "dtype: float64"
      ]
     },
     "execution_count": 8,
     "metadata": {},
     "output_type": "execute_result"
    }
   ],
   "source": [
    "df.var()"
   ]
  },
  {
   "cell_type": "code",
   "execution_count": 9,
   "id": "864a1d66-fca2-4bc1-9b76-ac0c7010c19e",
   "metadata": {
    "tags": []
   },
   "outputs": [
    {
     "name": "stderr",
     "output_type": "stream",
     "text": [
      "C:\\Users\\shukl\\AppData\\Local\\Temp\\ipykernel_8896\\3390915376.py:1: FutureWarning: The default value of numeric_only in DataFrame.std is deprecated. In a future version, it will default to False. In addition, specifying 'numeric_only=None' is deprecated. Select only valid columns or specify the value of numeric_only to silence this warning.\n",
      "  df.std()\n"
     ]
    },
    {
     "data": {
      "text/plain": [
       "total_bill    8.902412\n",
       "tip           1.383638\n",
       "size          0.951100\n",
       "dtype: float64"
      ]
     },
     "execution_count": 9,
     "metadata": {},
     "output_type": "execute_result"
    }
   ],
   "source": [
    "df.std()"
   ]
  },
  {
   "cell_type": "code",
   "execution_count": null,
   "id": "3ba4e488-94c3-445d-8904-41ae8f1586a3",
   "metadata": {},
   "outputs": [],
   "source": []
  }
 ],
 "metadata": {
  "kernelspec": {
   "display_name": "Python 3 (ipykernel)",
   "language": "python",
   "name": "python3"
  },
  "language_info": {
   "codemirror_mode": {
    "name": "ipython",
    "version": 3
   },
   "file_extension": ".py",
   "mimetype": "text/x-python",
   "name": "python",
   "nbconvert_exporter": "python",
   "pygments_lexer": "ipython3",
   "version": "3.11.3"
  }
 },
 "nbformat": 4,
 "nbformat_minor": 5
}
